{
  "nbformat": 4,
  "nbformat_minor": 0,
  "metadata": {
    "colab": {
      "provenance": [],
      "collapsed_sections": [],
      "include_colab_link": true
    },
    "kernelspec": {
      "name": "python3",
      "display_name": "Python 3"
    },
    "language_info": {
      "name": "python"
    }
  },
  "cells": [
    {
      "cell_type": "markdown",
      "metadata": {
        "id": "view-in-github",
        "colab_type": "text"
      },
      "source": [
        "<a href=\"https://colab.research.google.com/github/strawberryshadow/canLEAD/blob/main/lab1template.ipynb\" target=\"_parent\"><img src=\"https://colab.research.google.com/assets/colab-badge.svg\" alt=\"Open In Colab\"/></a>"
      ]
    },
    {
      "cell_type": "markdown",
      "source": [
        "# Lab #1 Introduction to Laboratory Electronics"
      ],
      "metadata": {
        "id": "w8koNSwfZLEh"
      }
    },
    {
      "cell_type": "markdown",
      "source": [
        "Name: Lily Watt\n",
        "\n",
        "Partner: (Unassigned)"
      ],
      "metadata": {
        "id": "rm4zIh0nZjYw"
      }
    },
    {
      "cell_type": "markdown",
      "source": [
        "# Objective\n",
        "\n",
        "Gain experience with equipment and procedures in a laboratory setting. Use AD2, prototype boards, circuit components and DMM to build a voltage divider circuit that can be adapted for DC or AC input given $V_{in}$ and $V_{out}$ conditons. Import data from AD2 into ELN and plot on a graph.\n",
        "\n"
      ],
      "metadata": {
        "id": "tq1PuZg1aZTi"
      }
    },
    {
      "cell_type": "markdown",
      "source": [
        "# Prelab"
      ],
      "metadata": {
        "id": "5566QgGkEzht"
      }
    },
    {
      "cell_type": "markdown",
      "source": [
        "## Voltage Divider\n",
        "\n",
        "<figure>\n",
        "  <img src=\"https://drive.google.com/uc?id=1e6ms4sd9-NMJZAVDl3rk6YsRLzG4zk98\" width=\"400\"/>\n",
        "  <figcaption>Figure 1: Voltage Divider schematic</figcaption>\n",
        "</figure>"
      ],
      "metadata": {
        "id": "1q9l6apxazX0"
      }
    },
    {
      "cell_type": "markdown",
      "source": [
        "$$ \\begin{align}\n",
        "%V_{in}&=5 \\text{V} \\\\\n",
        "%V_{out}&=3.3 \\text{V} \\\\\n",
        "R&=R_a=R_b=R_c \\\\\n",
        "V_{out}&=V_{in} \\frac{R_1}{R_1+R_2} \\\\\n",
        "\\frac{1}{R_1}&=\\frac{1}{R_a}+\\frac{1}{R_b} \\\\\n",
        "\\frac{1}{R_1}&=\\frac{1}{R}+\\frac{1}{R} \\\\\n",
        "R_1&=\\frac{1}{2}R \\\\\n",
        "R_2&=R_c=R \\\\\n",
        "V_{out}&=V_{in}\\frac{R}{1.5R} \\\\\n",
        "V_{out}&=\\frac{V_{in}}{1.5}\n",
        "\\end{align}\n",
        "$$"
      ],
      "metadata": {
        "id": "4bGEKgrdTugd"
      }
    },
    {
      "cell_type": "markdown",
      "source": [
        "## Analog Discovery 2"
      ],
      "metadata": {
        "id": "Nk1lJUvIbEjy"
      }
    },
    {
      "cell_type": "markdown",
      "source": [
        "<figure>\n",
        "  <img src=\"https://drive.google.com/uc?id=19Bjrc6LIuK3xrJeWLPx0oMMecOTC5BYo\" width=\"300\"/>\n",
        "  <figcaption>Figure 2: WaveForms Screenshot</figcaption>\n",
        "</figure>"
      ],
      "metadata": {
        "id": "9yCMh7XheNRN"
      }
    },
    {
      "cell_type": "markdown",
      "source": [
        "# Introduction/Background\n",
        "\n",
        "<There isn't much background/intro for this lab... but you should still include relevant material including what a DMM is and what you measure with it... as well as what a oscilloscope and function generator are used for. "
      ],
      "metadata": {
        "id": "tejogHfsbS3v"
      }
    },
    {
      "cell_type": "markdown",
      "source": [
        "# DC Measurements"
      ],
      "metadata": {
        "id": "hCqZrOHObmaV"
      }
    },
    {
      "cell_type": "markdown",
      "source": [
        "## Experimental setup\n",
        "\n",
        "###Voltage Divider\n",
        "<figure>\n",
        "  <img src=\"https://drive.google.com/uc?id=1e6ms4sd9-NMJZAVDl3rk6YsRLzG4zk98\" width=\"400\"/>\n",
        "  <figcaption>Figure 1 (repeated): Voltage Divider schematic</figcaption>\n",
        "</figure>\n",
        "\n",
        "As derived above,\n",
        "$$ \\begin{align}\n",
        "%V_{in}&=5 \\text{V} \\\\\n",
        "%V_{out}&=3.3 \\text{V} \\\\\n",
        "R&=R_a=R_b=R_c \\\\\n",
        "V_{out}&=V_{in}\\frac{R}{1.5R} \\\\\n",
        "V_{out}&=\\frac{V_{in}}{1.5}\n",
        "\\end{align}\n",
        "$$"
      ],
      "metadata": {
        "id": "q-FeM2yobp8g"
      }
    },
    {
      "cell_type": "markdown",
      "source": [
        "## Measurements of unloaded circuit\n",
        "\n",
        "< describe how you configured your experiment (with text and figures)... i.e. what wires went where. What went wrong and what went right. Any tips your future self would love to know.>\n",
        "\n",
        "< Give measurements of all quantities: R1, R2, R3, Vout and Vin. Does Vout match expectations given R1, R2, R3 and Vin?>\n",
        "\n",
        "< Answer any questions> \n",
        "\n"
      ],
      "metadata": {
        "id": "6CNenbcfb4NG"
      }
    },
    {
      "cell_type": "markdown",
      "source": [
        "## Measurements of loaded circuit\n",
        "\n",
        "< discuss what you observe on the output voltage with loading your divider with a resistive load of 10k and why it \n",
        "is occuring>\n",
        "\n",
        "< explain your redesign to enable an output voltage of 3.3V with a resistive load of 10k>\n",
        "\n",
        "< confirm with recorded observations on new divider>\n"
      ],
      "metadata": {
        "id": "CDKuoZZUcV-D"
      }
    },
    {
      "cell_type": "markdown",
      "source": [
        "#  AC Measurements "
      ],
      "metadata": {
        "id": "eiyQ8uF1dXug"
      }
    },
    {
      "cell_type": "markdown",
      "source": [
        "## Displaying Waveforms and Triggering\n",
        "\n",
        "< Describe experimental setup (what/how you connected components). Note anything surprising or confusing. >\n",
        "\n",
        "< Describe triggering. How to do it, what the scope does when triggering and why it is important.>\n",
        "\n",
        "< take image from scope (via Export -> Image) to get a PNG or JPG file and place in this file.>"
      ],
      "metadata": {
        "id": "k70yqehfdeEB"
      }
    },
    {
      "cell_type": "markdown",
      "source": [
        "## Amplitude and Frequency Measurements\n",
        "\n",
        "< Describe how measurements were taken using the two methods and record these measurements along with uncertainties for each.>"
      ],
      "metadata": {
        "id": "L3zTaNhweCh4"
      }
    },
    {
      "cell_type": "markdown",
      "source": [
        "## AC measurements of Voltage Divider\n",
        "\n",
        "< Report AC measurements and compare to expected values>\n",
        "\n",
        "< Plot Vin and Vout in python from downloaded datafrom AD2>"
      ],
      "metadata": {
        "id": "Uv0vVCaFeSVD"
      }
    },
    {
      "cell_type": "code",
      "source": [
        "from google.colab import drive\n",
        "drive.mount('/content/drive')"
      ],
      "metadata": {
        "colab": {
          "base_uri": "https://localhost:8080/"
        },
        "id": "AKSMsRNNaLeW",
        "outputId": "b3a766b4-6d45-4d4e-b3c8-684718c55801"
      },
      "execution_count": null,
      "outputs": [
        {
          "output_type": "stream",
          "name": "stdout",
          "text": [
            "Mounted at /content/drive\n"
          ]
        }
      ]
    },
    {
      "cell_type": "code",
      "source": [
        "# import libraries and ensure drive is working/mounted\n",
        "import pandas as pd\n",
        "import numpy as np\n",
        "import os\n",
        "import matplotlib.pyplot as plt\n",
        "\n",
        "ddir = f'/content/drive/MyDrive/ENPH259/Lab 1'\n",
        "print(os.listdir(ddir))"
      ],
      "metadata": {
        "colab": {
          "base_uri": "https://localhost:8080/",
          "height": 0
        },
        "id": "Xue3rC7iaGkK",
        "outputId": "0c2ebddd-5e20-4d15-b783-b5beda241191"
      },
      "execution_count": 6,
      "outputs": [
        {
          "output_type": "stream",
          "name": "stdout",
          "text": [
            "['lab1template.ipynb', 'TestLab1.ipynb', 'Screenshot 2022-09-13 205728.jpg', 'Screenshot 2022-09-13 214009.jpg']\n"
          ]
        }
      ]
    },
    {
      "cell_type": "code",
      "source": [
        "#read the data; my colab hates headers so I removed them when exporting the data\n",
        "data_path = '/content/drive/MyDrive/ENPH259/Lab 1/test sine.csv'\n",
        "descriptiveDataframeName = pd.read_csv(data_path, sep=',')  # read_csv works for csv/tab separated; use read_excel for xlsx\n",
        "descriptiveDataframeName  # df stands for dataframe; prints"
      ],
      "metadata": {
        "id": "svSNzxLabUuB"
      },
      "execution_count": null,
      "outputs": []
    },
    {
      "cell_type": "code",
      "source": [
        "#split the data into x and y\n",
        "\n",
        "#uses index location\n",
        "x_WaveName = descriptiveDataframeName.iloc[:,0]  # colon means all\n",
        "y_WaveName = descriptiveDataframeName.iloc[:,1]"
      ],
      "metadata": {
        "id": "M2mBrXmXcBIS"
      },
      "execution_count": 10,
      "outputs": []
    },
    {
      "cell_type": "code",
      "source": [
        "# Create graph!\n",
        "fig, ax = plt.subplots(1)\n",
        "\n",
        "# Add Data\n",
        "ax.plot(x_WaveName, y_WaveName, label='Sine')\n",
        "\n",
        "# Format Figure\n",
        "ax.set_xlabel('Time (s)')\n",
        "ax.set_ylabel('Potential (V)')\n",
        "ax.set_title('1kHz Sine Wave with 1V Amplitude')\n",
        "ax.legend()"
      ],
      "metadata": {
        "id": "zNhDuhYufj_Z",
        "colab": {
          "base_uri": "https://localhost:8080/",
          "height": 312
        },
        "outputId": "76cd365c-2e30-40e1-f240-f33dc421d4f3"
      },
      "execution_count": 12,
      "outputs": [
        {
          "output_type": "execute_result",
          "data": {
            "text/plain": [
              "<matplotlib.legend.Legend at 0x7fbebf73be90>"
            ]
          },
          "metadata": {},
          "execution_count": 12
        },
        {
          "output_type": "display_data",
          "data": {
            "text/plain": [
              "<Figure size 432x288 with 1 Axes>"
            ],
            "image/png": "[encoded data removed]"
          },
          "metadata": {
            "needs_background": "light"
          }
        }
      ]
    },
    {
      "cell_type": "markdown",
      "source": [
        "# Conclusion"
      ],
      "metadata": {
        "id": "nJ_HKRcuewJa"
      }
    }
  ]
}